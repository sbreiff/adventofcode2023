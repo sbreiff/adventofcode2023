{
 "cells": [
  {
   "cell_type": "code",
   "execution_count": 1,
   "id": "040e4ba3",
   "metadata": {},
   "outputs": [],
   "source": [
    "from day1 import *"
   ]
  },
  {
   "cell_type": "code",
   "execution_count": 3,
   "id": "382ee224",
   "metadata": {},
   "outputs": [],
   "source": [
    "# Part 1 Testing\n",
    "\n",
    "example1 = '''\n",
    "1abc2\n",
    "pqr3stu8vwx\n",
    "a1b2c3d4e5f\n",
    "treb7uchet\n",
    "'''.split('\\n')\n",
    "\n",
    "assert get_numbers(example1[1]) == 12\n",
    "assert get_numbers(example1[2]) == 38\n",
    "assert get_numbers(example1[3]) == 15\n",
    "assert get_numbers(example1[4]) == 77\n",
    "\n",
    "assert get_numbers(example1[1], words=True) == 12\n",
    "assert get_numbers(example1[2], words=True) == 38\n",
    "assert get_numbers(example1[3], words=True) == 15\n",
    "assert get_numbers(example1[4], words=True) == 77\n",
    "\n",
    "assert sum_digits(example1) == 142\n",
    "assert sum_digits(example1, words=True) == 142\n"
   ]
  },
  {
   "cell_type": "code",
   "execution_count": 4,
   "id": "73748fa7",
   "metadata": {},
   "outputs": [],
   "source": [
    "# Part 2 Testing\n",
    "\n",
    "example2 = '''\n",
    "two1nine\n",
    "eightwothree\n",
    "abcone2threexyz\n",
    "xtwone3four\n",
    "4nineeightseven2\n",
    "zoneight234\n",
    "7pqrstsixteen\n",
    "'''.split('\\n')\n",
    "\n",
    "assert get_numbers(example2[1], words=True) == 29\n",
    "assert get_numbers(example2[2], words=True) == 83\n",
    "assert get_numbers(example2[3], words=True) == 13\n",
    "assert get_numbers(example2[4], words=True) == 24\n",
    "assert get_numbers(example2[5], words=True) == 42\n",
    "assert get_numbers(example2[6], words=True) == 14\n",
    "assert get_numbers(example2[7], words=True) == 76\n",
    "\n",
    "assert sum_digits(example2, words=True) == 281"
   ]
  },
  {
   "cell_type": "code",
   "execution_count": 5,
   "id": "d75d73a2",
   "metadata": {},
   "outputs": [
    {
     "name": "stdout",
     "output_type": "stream",
     "text": [
      "Part 1 Answer:  53194\n",
      "\n",
      "Part 2 Answer:  54249\n"
     ]
    }
   ],
   "source": [
    "# Run script on sample file\n",
    "\n",
    "with open('input.txt') as infile:\n",
    "    input_data = infile.readlines()\n",
    "    \n",
    "print('Part 1 Answer: ', sum_digits(input_data))\n",
    "print('')\n",
    "print('Part 2 Answer: ', sum_digits(input_data, words=True))"
   ]
  },
  {
   "cell_type": "code",
   "execution_count": null,
   "id": "00605a6e",
   "metadata": {},
   "outputs": [],
   "source": []
  }
 ],
 "metadata": {
  "kernelspec": {
   "display_name": "Python 3 (ipykernel)",
   "language": "python",
   "name": "python3"
  },
  "language_info": {
   "codemirror_mode": {
    "name": "ipython",
    "version": 3
   },
   "file_extension": ".py",
   "mimetype": "text/x-python",
   "name": "python",
   "nbconvert_exporter": "python",
   "pygments_lexer": "ipython3",
   "version": "3.9.6"
  }
 },
 "nbformat": 4,
 "nbformat_minor": 5
}
